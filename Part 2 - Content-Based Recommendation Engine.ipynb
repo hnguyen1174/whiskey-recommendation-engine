{
 "cells": [
  {
   "cell_type": "markdown",
   "metadata": {},
   "source": [
    "### 1. DATA PREPROCESSING"
   ]
  },
  {
   "cell_type": "code",
   "execution_count": 4,
   "metadata": {
    "collapsed": false
   },
   "outputs": [
    {
     "name": "stdout",
     "output_type": "stream",
     "text": [
      "[nltk_data] Downloading package stopwords to\n",
      "[nltk_data]     /Users/han2114/nltk_data...\n",
      "[nltk_data]   Unzipping corpora/stopwords.zip.\n"
     ]
    }
   ],
   "source": [
    "# Import\n",
    "import pandas as pd\n",
    "import numpy as np\n",
    "import matplotlib.pyplot as plt\n",
    "%matplotlib inline\n",
    "\n",
    "from sklearn.metrics.pairwise import cosine_similarity\n",
    "from sklearn.metrics import pairwise_distances\n",
    "from sklearn.neighbors import NearestNeighbors \n",
    "import re\n",
    "import nltk\n",
    "import csv\n",
    "import time\n",
    "nltk.download('stopwords')\n",
    "from nltk.corpus import stopwords\n",
    "from nltk.stem.porter import PorterStemmer\n",
    "from sklearn.feature_extraction.text import CountVectorizer\n",
    "from sklearn.feature_extraction.text import TfidfTransformer\n",
    "from sklearn.feature_extraction.text import TfidfVectorizer\n",
    "\n",
    "import itertools\n",
    "from collections import Counter\n",
    "import operator\n",
    "\n",
    "# User-input dataset\n",
    "input_data = pd.read_csv('user_input_set.csv')\n",
    "\n",
    "# Master Dataset\n",
    "df = pd.read_csv('df_mapped_final.csv')\n",
    "df.reset_index(inplace = True)\n",
    "df.drop(['index', 'Unnamed: 0'], axis = 1, inplace = True)\n",
    "\n",
    "whiskeys = pd.read_csv('whiskey_data_new_final_for_KNN.csv')\n",
    "whiskeys.drop('Index', axis = 1, inplace = True)\n",
    "\n",
    "whiskey_set1 = set(df['whiskey_name'])\n",
    "whiskey_set2 = set(whiskeys['whiskey_name'])\n",
    "whiskey_set = whiskey_set1 & whiskey_set2\n",
    "df = df.loc[df.whiskey_name.isin(whiskey_set)].reset_index()\n",
    "df.drop('index', axis = 1, inplace = True)\n",
    "whiskeys = whiskeys.loc[whiskeys.whiskey_name.isin(whiskey_set)].reset_index()\n",
    "whiskeys.drop('index', axis = 1, inplace = True)\n",
    "\n",
    "whiskey_dict = dict(set([i for i in zip(df['whiskey_name'], df['whiskey_id'])]))\n",
    "user_dict = dict(set([i for i in zip(df['name'], df['user_id'])]))\n",
    "whiskeys = whiskeys.assign(whiskey_id=whiskeys['whiskey_name'].map(whiskey_dict))\n",
    "whiskeys.whiskey_id = whiskeys.whiskey_id.astype(int)\n",
    "\n",
    "# Inverse whiskey dictionary is in the {'id':'whiskey_name'} format. \n",
    "# There exists another whiskey dict above to match whiskey_id across dataset\n",
    "inverse_whiskey_dict = dict(set([i for i in zip(df['whiskey_id'], df['whiskey_name'])]))"
   ]
  },
  {
   "cell_type": "code",
   "execution_count": 2,
   "metadata": {
    "collapsed": false
   },
   "outputs": [
    {
     "name": "stderr",
     "output_type": "stream",
     "text": [
      "//anaconda/lib/python3.5/site-packages/ipykernel/__main__.py:9: SettingWithCopyWarning: \n",
      "A value is trying to be set on a copy of a slice from a DataFrame.\n",
      "Try using .loc[row_indexer,col_indexer] = value instead\n",
      "\n",
      "See the caveats in the documentation: http://pandas.pydata.org/pandas-docs/stable/indexing.html#indexing-view-versus-copy\n"
     ]
    }
   ],
   "source": [
    "# whiskey_cb is the dataset containing the numerical features used for content-based recommendation system\n",
    "# Choose the numerical values\n",
    "whiskeys_cb = whiskeys[['whiskey_id', 'whiskey_name', 'type', 'abv_score', 'age(Year)',\n",
    "       'smoky', 'peaty', 'spicy', 'herbal', 'oily',\n",
    "       'full_bodied', 'rich', 'sweet', 'briny', 'salty', 'vanilla', 'tart',\n",
    "       'fruity', 'floral', 'cost_count']]\n",
    "\n",
    "# Fill NAs values in age(Year) with mean age.\n",
    "whiskeys_cb['age(Year)'] = whiskeys_cb['age(Year)'].fillna(whiskeys_cb['age(Year)'].mean())\n",
    "\n",
    "# Create dummy variables for whiskey types\n",
    "whiskeys_cb = pd.concat([whiskeys_cb, whiskeys_cb.type.str.get_dummies()], axis=1)\n",
    "whiskeys_cb.drop('type', axis = 1, inplace = True)"
   ]
  },
  {
   "cell_type": "code",
   "execution_count": 3,
   "metadata": {
    "collapsed": false
   },
   "outputs": [
    {
     "data": {
      "text/html": [
       "<div>\n",
       "<table border=\"1\" class=\"dataframe\">\n",
       "  <thead>\n",
       "    <tr style=\"text-align: right;\">\n",
       "      <th></th>\n",
       "      <th>whiskey_id</th>\n",
       "      <th>whiskey_name</th>\n",
       "      <th>abv_score</th>\n",
       "      <th>age(Year)</th>\n",
       "      <th>smoky</th>\n",
       "      <th>peaty</th>\n",
       "      <th>spicy</th>\n",
       "      <th>herbal</th>\n",
       "      <th>oily</th>\n",
       "      <th>full_bodied</th>\n",
       "      <th>...</th>\n",
       "      <th>Peated Blended Malt</th>\n",
       "      <th>Peated Single Malt</th>\n",
       "      <th>Rye</th>\n",
       "      <th>Single Grain</th>\n",
       "      <th>Single Malt</th>\n",
       "      <th>Single Pot Still</th>\n",
       "      <th>Spirit</th>\n",
       "      <th>Tennessee</th>\n",
       "      <th>Wheat Whiskey</th>\n",
       "      <th>White</th>\n",
       "    </tr>\n",
       "  </thead>\n",
       "  <tbody>\n",
       "    <tr>\n",
       "      <th>0</th>\n",
       "      <td>974</td>\n",
       "      <td>Hibiki 21 Year</td>\n",
       "      <td>43.00</td>\n",
       "      <td>21.000000</td>\n",
       "      <td>30</td>\n",
       "      <td>85</td>\n",
       "      <td>50</td>\n",
       "      <td>30</td>\n",
       "      <td>20</td>\n",
       "      <td>80</td>\n",
       "      <td>...</td>\n",
       "      <td>0</td>\n",
       "      <td>0</td>\n",
       "      <td>0</td>\n",
       "      <td>0</td>\n",
       "      <td>0</td>\n",
       "      <td>0</td>\n",
       "      <td>0</td>\n",
       "      <td>0</td>\n",
       "      <td>0</td>\n",
       "      <td>0</td>\n",
       "    </tr>\n",
       "    <tr>\n",
       "      <th>1</th>\n",
       "      <td>996</td>\n",
       "      <td>Highland Park 18 Year</td>\n",
       "      <td>43.00</td>\n",
       "      <td>18.000000</td>\n",
       "      <td>40</td>\n",
       "      <td>30</td>\n",
       "      <td>40</td>\n",
       "      <td>20</td>\n",
       "      <td>40</td>\n",
       "      <td>70</td>\n",
       "      <td>...</td>\n",
       "      <td>0</td>\n",
       "      <td>1</td>\n",
       "      <td>0</td>\n",
       "      <td>0</td>\n",
       "      <td>0</td>\n",
       "      <td>0</td>\n",
       "      <td>0</td>\n",
       "      <td>0</td>\n",
       "      <td>0</td>\n",
       "      <td>0</td>\n",
       "    </tr>\n",
       "    <tr>\n",
       "      <th>2</th>\n",
       "      <td>325</td>\n",
       "      <td>Bowmore Mizunara Cask Finish</td>\n",
       "      <td>53.90</td>\n",
       "      <td>14.177221</td>\n",
       "      <td>30</td>\n",
       "      <td>20</td>\n",
       "      <td>40</td>\n",
       "      <td>30</td>\n",
       "      <td>10</td>\n",
       "      <td>75</td>\n",
       "      <td>...</td>\n",
       "      <td>0</td>\n",
       "      <td>1</td>\n",
       "      <td>0</td>\n",
       "      <td>0</td>\n",
       "      <td>0</td>\n",
       "      <td>0</td>\n",
       "      <td>0</td>\n",
       "      <td>0</td>\n",
       "      <td>0</td>\n",
       "      <td>0</td>\n",
       "    </tr>\n",
       "    <tr>\n",
       "      <th>3</th>\n",
       "      <td>2052</td>\n",
       "      <td>The Macallan M</td>\n",
       "      <td>47.70</td>\n",
       "      <td>14.177221</td>\n",
       "      <td>50</td>\n",
       "      <td>10</td>\n",
       "      <td>60</td>\n",
       "      <td>0</td>\n",
       "      <td>15</td>\n",
       "      <td>90</td>\n",
       "      <td>...</td>\n",
       "      <td>0</td>\n",
       "      <td>0</td>\n",
       "      <td>0</td>\n",
       "      <td>0</td>\n",
       "      <td>1</td>\n",
       "      <td>0</td>\n",
       "      <td>0</td>\n",
       "      <td>0</td>\n",
       "      <td>0</td>\n",
       "      <td>0</td>\n",
       "    </tr>\n",
       "    <tr>\n",
       "      <th>4</th>\n",
       "      <td>1663</td>\n",
       "      <td>Port Ellen 32 Year 1979 (2012 Special Release)</td>\n",
       "      <td>52.50</td>\n",
       "      <td>32.000000</td>\n",
       "      <td>70</td>\n",
       "      <td>50</td>\n",
       "      <td>20</td>\n",
       "      <td>10</td>\n",
       "      <td>20</td>\n",
       "      <td>80</td>\n",
       "      <td>...</td>\n",
       "      <td>0</td>\n",
       "      <td>1</td>\n",
       "      <td>0</td>\n",
       "      <td>0</td>\n",
       "      <td>0</td>\n",
       "      <td>0</td>\n",
       "      <td>0</td>\n",
       "      <td>0</td>\n",
       "      <td>0</td>\n",
       "      <td>0</td>\n",
       "    </tr>\n",
       "    <tr>\n",
       "      <th>5</th>\n",
       "      <td>2070</td>\n",
       "      <td>Thomas H. Handy Sazerac Rye (Fall 2015)</td>\n",
       "      <td>63.45</td>\n",
       "      <td>6.000000</td>\n",
       "      <td>10</td>\n",
       "      <td>0</td>\n",
       "      <td>60</td>\n",
       "      <td>0</td>\n",
       "      <td>10</td>\n",
       "      <td>80</td>\n",
       "      <td>...</td>\n",
       "      <td>0</td>\n",
       "      <td>0</td>\n",
       "      <td>1</td>\n",
       "      <td>0</td>\n",
       "      <td>0</td>\n",
       "      <td>0</td>\n",
       "      <td>0</td>\n",
       "      <td>0</td>\n",
       "      <td>0</td>\n",
       "      <td>0</td>\n",
       "    </tr>\n",
       "    <tr>\n",
       "      <th>6</th>\n",
       "      <td>2242</td>\n",
       "      <td>William Larue Weller Bourbon (Fall 2015)</td>\n",
       "      <td>67.30</td>\n",
       "      <td>12.000000</td>\n",
       "      <td>10</td>\n",
       "      <td>0</td>\n",
       "      <td>30</td>\n",
       "      <td>0</td>\n",
       "      <td>30</td>\n",
       "      <td>80</td>\n",
       "      <td>...</td>\n",
       "      <td>0</td>\n",
       "      <td>0</td>\n",
       "      <td>0</td>\n",
       "      <td>0</td>\n",
       "      <td>0</td>\n",
       "      <td>0</td>\n",
       "      <td>0</td>\n",
       "      <td>0</td>\n",
       "      <td>0</td>\n",
       "      <td>0</td>\n",
       "    </tr>\n",
       "    <tr>\n",
       "      <th>7</th>\n",
       "      <td>1971</td>\n",
       "      <td>The Balvenie Tun 1509 Batch 1</td>\n",
       "      <td>47.10</td>\n",
       "      <td>14.177221</td>\n",
       "      <td>10</td>\n",
       "      <td>0</td>\n",
       "      <td>25</td>\n",
       "      <td>10</td>\n",
       "      <td>15</td>\n",
       "      <td>80</td>\n",
       "      <td>...</td>\n",
       "      <td>0</td>\n",
       "      <td>0</td>\n",
       "      <td>0</td>\n",
       "      <td>0</td>\n",
       "      <td>1</td>\n",
       "      <td>0</td>\n",
       "      <td>0</td>\n",
       "      <td>0</td>\n",
       "      <td>0</td>\n",
       "      <td>0</td>\n",
       "    </tr>\n",
       "    <tr>\n",
       "      <th>8</th>\n",
       "      <td>289</td>\n",
       "      <td>Booker's Bourbon Batch 2015-01 \"Big Man, Small...</td>\n",
       "      <td>64.35</td>\n",
       "      <td>7.000000</td>\n",
       "      <td>15</td>\n",
       "      <td>0</td>\n",
       "      <td>35</td>\n",
       "      <td>5</td>\n",
       "      <td>20</td>\n",
       "      <td>80</td>\n",
       "      <td>...</td>\n",
       "      <td>0</td>\n",
       "      <td>0</td>\n",
       "      <td>0</td>\n",
       "      <td>0</td>\n",
       "      <td>0</td>\n",
       "      <td>0</td>\n",
       "      <td>0</td>\n",
       "      <td>0</td>\n",
       "      <td>0</td>\n",
       "      <td>0</td>\n",
       "    </tr>\n",
       "    <tr>\n",
       "      <th>9</th>\n",
       "      <td>748</td>\n",
       "      <td>Four Roses Limited Edition Single Barrel Bourb...</td>\n",
       "      <td>59.80</td>\n",
       "      <td>13.000000</td>\n",
       "      <td>30</td>\n",
       "      <td>0</td>\n",
       "      <td>80</td>\n",
       "      <td>40</td>\n",
       "      <td>40</td>\n",
       "      <td>90</td>\n",
       "      <td>...</td>\n",
       "      <td>0</td>\n",
       "      <td>0</td>\n",
       "      <td>0</td>\n",
       "      <td>0</td>\n",
       "      <td>0</td>\n",
       "      <td>0</td>\n",
       "      <td>0</td>\n",
       "      <td>0</td>\n",
       "      <td>0</td>\n",
       "      <td>0</td>\n",
       "    </tr>\n",
       "  </tbody>\n",
       "</table>\n",
       "<p>10 rows × 40 columns</p>\n",
       "</div>"
      ],
      "text/plain": [
       "   whiskey_id                                       whiskey_name  abv_score  \\\n",
       "0         974                                     Hibiki 21 Year      43.00   \n",
       "1         996                              Highland Park 18 Year      43.00   \n",
       "2         325                       Bowmore Mizunara Cask Finish      53.90   \n",
       "3        2052                                     The Macallan M      47.70   \n",
       "4        1663     Port Ellen 32 Year 1979 (2012 Special Release)      52.50   \n",
       "5        2070            Thomas H. Handy Sazerac Rye (Fall 2015)      63.45   \n",
       "6        2242           William Larue Weller Bourbon (Fall 2015)      67.30   \n",
       "7        1971                      The Balvenie Tun 1509 Batch 1      47.10   \n",
       "8         289  Booker's Bourbon Batch 2015-01 \"Big Man, Small...      64.35   \n",
       "9         748  Four Roses Limited Edition Single Barrel Bourb...      59.80   \n",
       "\n",
       "   age(Year)  smoky  peaty  spicy  herbal  oily  full_bodied  ...    \\\n",
       "0  21.000000     30     85     50      30    20           80  ...     \n",
       "1  18.000000     40     30     40      20    40           70  ...     \n",
       "2  14.177221     30     20     40      30    10           75  ...     \n",
       "3  14.177221     50     10     60       0    15           90  ...     \n",
       "4  32.000000     70     50     20      10    20           80  ...     \n",
       "5   6.000000     10      0     60       0    10           80  ...     \n",
       "6  12.000000     10      0     30       0    30           80  ...     \n",
       "7  14.177221     10      0     25      10    15           80  ...     \n",
       "8   7.000000     15      0     35       5    20           80  ...     \n",
       "9  13.000000     30      0     80      40    40           90  ...     \n",
       "\n",
       "   Peated Blended Malt  Peated Single Malt  Rye  Single Grain  Single Malt  \\\n",
       "0                    0                   0    0             0            0   \n",
       "1                    0                   1    0             0            0   \n",
       "2                    0                   1    0             0            0   \n",
       "3                    0                   0    0             0            1   \n",
       "4                    0                   1    0             0            0   \n",
       "5                    0                   0    1             0            0   \n",
       "6                    0                   0    0             0            0   \n",
       "7                    0                   0    0             0            1   \n",
       "8                    0                   0    0             0            0   \n",
       "9                    0                   0    0             0            0   \n",
       "\n",
       "   Single Pot Still  Spirit  Tennessee  Wheat Whiskey  White  \n",
       "0                 0       0          0              0      0  \n",
       "1                 0       0          0              0      0  \n",
       "2                 0       0          0              0      0  \n",
       "3                 0       0          0              0      0  \n",
       "4                 0       0          0              0      0  \n",
       "5                 0       0          0              0      0  \n",
       "6                 0       0          0              0      0  \n",
       "7                 0       0          0              0      0  \n",
       "8                 0       0          0              0      0  \n",
       "9                 0       0          0              0      0  \n",
       "\n",
       "[10 rows x 40 columns]"
      ]
     },
     "execution_count": 3,
     "metadata": {},
     "output_type": "execute_result"
    }
   ],
   "source": [
    "whiskeys_cb.head(10)"
   ]
  },
  {
   "cell_type": "markdown",
   "metadata": {},
   "source": [
    "### 2. COSINE SIMILARITY"
   ]
  },
  {
   "cell_type": "code",
   "execution_count": 16,
   "metadata": {
    "collapsed": true
   },
   "outputs": [],
   "source": [
    "def recommend_cosine(input_data, n):\n",
    "    \n",
    "    chosen_index = np.array(input_data['whiskey_id'])\n",
    "    chosen_rating = np.array(input_data['rating'])\n",
    "    \n",
    "    whiskey_df = whiskeys_cb.drop('whiskey_name', axis = 1)\n",
    "    whiskey_df.set_index('whiskey_id', inplace=True)\n",
    "    whiskey_mat = whiskey_df.values\n",
    "\n",
    "    whiskey_vec = 0\n",
    "    for i in range(len(chosen_index)):\n",
    "        whiskey_vec += whiskey_df.loc[chosen_index[i]] * chosen_rating[i]\n",
    "    whiskey_vec = np.array(whiskey_vec/len(whiskey_vec)).reshape(1, -1)\n",
    "    \n",
    "    cs = cosine_similarity(whiskey_vec, whiskey_mat)\n",
    "    rec_index = np.argsort(cs)[0][::-1]\n",
    "    \n",
    "    recommendations = list()\n",
    "    \n",
    "    i = 0\n",
    "    while i <= n:\n",
    "        rec = whiskey_df.index[rec_index[i]]\n",
    "        if (rec not in chosen_index):\n",
    "            recommendations.append(rec)\n",
    "        i += 1\n",
    "    \n",
    "    return [inverse_whiskey_dict[rec] for rec in recommendations]"
   ]
  },
  {
   "cell_type": "code",
   "execution_count": 17,
   "metadata": {
    "collapsed": false
   },
   "outputs": [
    {
     "data": {
      "text/plain": [
       "['Bowmore Mizunara Cask Finish',\n",
       " 'Sonoma County Distilling Co. West of Kentucky Bourbon No. 1',\n",
       " 'Nikka All Malt Whisky',\n",
       " 'Sonoma County Distilling Co. Cherrywood Rye Whiskey (Batch #1)',\n",
       " 'Fettercairn Fior',\n",
       " 'Catskill The One and Only Buckwheat',\n",
       " 'Kurayoshi 12 Year Pure Malt Whisky',\n",
       " \"Michter's US*1 Toasted Barrel Finish Bourbon (2015 Release)\",\n",
       " 'Clynelish Select Reserve (2015 Special Release)',\n",
       " 'Benromach Imperial Proof',\n",
       " 'Ardbeg Dark Cove (2016 Committee Release)']"
      ]
     },
     "execution_count": 17,
     "metadata": {},
     "output_type": "execute_result"
    }
   ],
   "source": [
    "recommend_cosine(input_data, 10)"
   ]
  },
  {
   "cell_type": "markdown",
   "metadata": {},
   "source": [
    "### 3. JACCARD ITEM SIMILARITY"
   ]
  },
  {
   "cell_type": "code",
   "execution_count": 40,
   "metadata": {
    "collapsed": true
   },
   "outputs": [],
   "source": [
    "def recommend_jaccard(input_data, n):\n",
    "\n",
    "    chosen_index = np.array(input_data['whiskey_id'])\n",
    "    chosen_rating = np.array(input_data['rating'])\n",
    "    \n",
    "    whiskey_df = whiskeys_cb.drop('whiskey_name', axis = 1)\n",
    "    whiskey_df.set_index('whiskey_id', inplace=True)\n",
    "    whiskey_mat = whiskey_df.values\n",
    "\n",
    "    whiskey_vec = 0\n",
    "    for i in range(len(chosen_index)):\n",
    "        whiskey_vec += whiskey_df.loc[chosen_index[i]] * chosen_rating[i]\n",
    "    whiskey_vec = np.array(whiskey_vec/len(whiskey_vec)).reshape(1, -1)\n",
    "    \n",
    "    j_dist = pairwise_distances(whiskey_vec, whiskey_mat, metric='jaccard')\n",
    "    rec_index = np.argsort(j_dist)[0]\n",
    "    \n",
    "    recommendations = list()\n",
    "    \n",
    "    i = 0\n",
    "    while i <= n:\n",
    "        rec = whiskey_df.index[rec_index[i]]\n",
    "        if (rec not in chosen_index):\n",
    "            recommendations.append(rec)\n",
    "        i += 1\n",
    "    \n",
    "    return [inverse_whiskey_dict[rec] for rec in recommendations]"
   ]
  },
  {
   "cell_type": "code",
   "execution_count": 87,
   "metadata": {
    "collapsed": false
   },
   "outputs": [
    {
     "name": "stderr",
     "output_type": "stream",
     "text": [
      "C:\\Users\\DELL\\Anaconda3\\lib\\site-packages\\sklearn\\utils\\validation.py:475: DataConversionWarning: Data with input dtype float64 was converted to bool by check_pairwise_arrays.\n",
      "  warnings.warn(msg, DataConversionWarning)\n"
     ]
    },
    {
     "data": {
      "text/plain": [
       "['Amrut Bengal Tiger Single Cask Strength',\n",
       " 'Connemara 12 Year',\n",
       " 'Kavalan Distillery Reserve Peaty Cask',\n",
       " 'Caol Ila 12 Year ',\n",
       " 'Tomintoul Peaty Tang',\n",
       " 'Highland Park Thor',\n",
       " \"Bunnahabhain 8 Year The MacPhail's Collection (Gordon & MacPhail)\",\n",
       " 'Longrow Red 11 Year Cabernet Sauvignon Finish',\n",
       " 'Springbank 21 Year',\n",
       " 'Amrut Spectrum',\n",
       " 'Laphroaig Quarter Cask']"
      ]
     },
     "execution_count": 87,
     "metadata": {},
     "output_type": "execute_result"
    }
   ],
   "source": [
    "recommend_jaccard(input_data, 10)"
   ]
  },
  {
   "cell_type": "markdown",
   "metadata": {},
   "source": [
    "### 4. KNN (With Ball Tree algorithm)"
   ]
  },
  {
   "cell_type": "code",
   "execution_count": 82,
   "metadata": {
    "collapsed": true
   },
   "outputs": [],
   "source": [
    "def recommend_knn(whiskey_id, n):\n",
    "    \n",
    "    chosen_index = np.array(input_data['whiskey_id'])\n",
    "    chosen_rating = np.array(input_data['rating'])\n",
    "    \n",
    "    whiskey_df = whiskeys_cb.drop('whiskey_name', axis = 1)\n",
    "    whiskey_np = np.array(whiskey_df)\n",
    "    knn = NearestNeighbors(n_neighbors = n, algorithm='ball_tree').fit(whiskey_np)\n",
    "\n",
    "    whiskey_test = 0\n",
    "    for i in range(len(chosen_index)):\n",
    "        whiskey_test += whiskey_df.loc[chosen_index[i]] * chosen_rating[i]\n",
    "    whiskey_test = np.array(whiskey_test/len(whiskey_test)).reshape(1, -1)\n",
    "    \n",
    "    distances, indices = knn.kneighbors(whiskey_test)  \n",
    "    recommendations = list()\n",
    "    for index in indices[0]:\n",
    "        if (index not in chosen_index):\n",
    "            rec = inverse_whiskey_dict[index]\n",
    "            recommendations.append(rec)\n",
    "    return recommendations"
   ]
  },
  {
   "cell_type": "code",
   "execution_count": 83,
   "metadata": {
    "collapsed": false
   },
   "outputs": [
    {
     "data": {
      "text/plain": [
       "['Johnny Drum Private Stock Bourbon',\n",
       " 'Westland Single Cask Release #281',\n",
       " 'Sazerac 18 Year Rye (Fall 2014)',\n",
       " 'Double Barrel Highland Park and Bowmore',\n",
       " \"Jack Daniel's Sinatra Select\",\n",
       " 'William Larue Weller Bourbon (Fall 2014) ',\n",
       " 'Wild Turkey Forgiven',\n",
       " 'Lagavulin 12 Year (2008 Special Release)',\n",
       " 'Four Roses Single Barrel Bourbon',\n",
       " 'Whisky Jewbilee Festival Bottling 2014 (Single Cask Nation)']"
      ]
     },
     "execution_count": 83,
     "metadata": {},
     "output_type": "execute_result"
    }
   ],
   "source": [
    "recommend_knn(input_data, 10)"
   ]
  },
  {
   "cell_type": "markdown",
   "metadata": {},
   "source": [
    "### 5. Pearson Correlation"
   ]
  },
  {
   "cell_type": "code",
   "execution_count": 84,
   "metadata": {
    "collapsed": true
   },
   "outputs": [],
   "source": [
    "def recommend_pearson(input_data, n):\n",
    "\n",
    "    chosen_index = np.array(input_data['whiskey_id'])\n",
    "    chosen_rating = np.array(input_data['rating'])\n",
    "    \n",
    "    whiskey_df = whiskeys_cb.drop('whiskey_name', axis = 1)\n",
    "    whiskey_df.set_index('whiskey_id', inplace=True)\n",
    "    whiskey_mat = whiskey_df.values\n",
    "\n",
    "    whiskey_vec = 0\n",
    "    for i in range(len(chosen_index)):\n",
    "        whiskey_vec += whiskey_df.loc[chosen_index[i]] * chosen_rating[i]\n",
    "    whiskey_vec = np.array(whiskey_vec/len(whiskey_vec)).reshape(1, -1)\n",
    "    \n",
    "    p_dist = pairwise_distances(whiskey_vec, whiskey_mat, metric='correlation')\n",
    "    rec_index = np.argsort(p_dist)[0]\n",
    "    \n",
    "    recommendations = list()\n",
    "    \n",
    "    i = 0\n",
    "    while i <= n:\n",
    "        rec = whiskey_df.index[rec_index[i]]\n",
    "        if (rec not in chosen_index):\n",
    "            recommendations.append(rec)\n",
    "        i += 1\n",
    "    \n",
    "    return [inverse_whiskey_dict[rec] for rec in recommendations]"
   ]
  },
  {
   "cell_type": "code",
   "execution_count": 85,
   "metadata": {
    "collapsed": false
   },
   "outputs": [
    {
     "data": {
      "text/plain": [
       "['Bowmore Mizunara Cask Finish',\n",
       " 'Sonoma County Distilling Co. West of Kentucky Bourbon No. 1',\n",
       " 'Sonoma County Distilling Co. Cherrywood Rye Whiskey (Batch #1)',\n",
       " \"Michter's US*1 Toasted Barrel Finish Bourbon (2015 Release)\",\n",
       " 'Nikka All Malt Whisky',\n",
       " 'Compass Box The Circus',\n",
       " 'Sonoma County Distilling Co. West of Kentucky Bourbon No. 2',\n",
       " 'Catskill The One and Only Buckwheat',\n",
       " 'Clynelish Select Reserve (2015 Special Release)',\n",
       " 'Fettercairn Fior',\n",
       " 'Ardbeg Dark Cove (2016 Committee Release)']"
      ]
     },
     "execution_count": 85,
     "metadata": {},
     "output_type": "execute_result"
    }
   ],
   "source": [
    "recommend_pearson(input_data, 10)"
   ]
  },
  {
   "cell_type": "markdown",
   "metadata": {},
   "source": [
    "### 6. TF-IDF"
   ]
  },
  {
   "cell_type": "code",
   "execution_count": 44,
   "metadata": {
    "collapsed": true
   },
   "outputs": [],
   "source": [
    "def item(id_):\n",
    "    return new_d.loc[id_-1]['whiskey_name']\n",
    "\n",
    "def recommend(id_, num):\n",
    "    recs = results[id_-1][:num]\n",
    "    return [inverse_whiskey_dict[i[1]] for i in recs]\n",
    "\n",
    "def recommend_tfidf(input_data, num=1):\n",
    "    \n",
    "    chosen_index = np.array(input_data['whiskey_id'])\n",
    "    chosen_rating = np.array(input_data['rating'])\n",
    "    \n",
    "    new_data = whiskeys[['whiskey_id', 'type', 'origin', 'flavor_headlines', 'tastes_note', 'description']]\n",
    "    \n",
    "    ps = PorterStemmer()\n",
    "    size = 2474\n",
    "    corpus=[]\n",
    "    def Data_Processing(file):\n",
    "        for i in range(len(file)):\n",
    "            type_temp = re.sub('[^A-Za-z0-9 ]+', '', new_data[\"type\"].iloc[i]).split()\n",
    "            flavor_headlines_temp = re.sub('[^A-Za-z0-9 ]+', '', new_data[\"flavor_headlines\"].iloc[i]).lower().split()\n",
    "            tastes_note_temp = re.sub('[^A-Za-z0-9 ]+', '', new_data[\"tastes_note\"].iloc[i]).lower().split()\n",
    "            description_temp = re.sub('[^A-Za-z0-9 ]+', '', new_data[\"description\"].iloc[i]).lower().split()\n",
    "            origin_temp = new_data[\"origin\"].iloc[i].lower()\n",
    "            type_temp = [ps.stem(word) for word in type_temp if not word in set(stopwords.words('english')) and len(word) != 1] \n",
    "            flavor_headlines_temp = [ps.stem(word) for word in flavor_headlines_temp if not word in set(stopwords.words('english')) and len(word) != 1]\n",
    "            tastes_note_temp = [ps.stem(word) for word in tastes_note_temp if not word in set(stopwords.words('english')) and len(word) != 1]\n",
    "            description_temp = [ps.stem(word) for word in description_temp if not word in set(stopwords.words('english')) and len(word) != 1]\n",
    "            origin_temp = [ps.stem(word) for word in origin_temp if not word in set(stopwords.words('english')) and len(word) != 1]\n",
    "            type_temp = ' '.join(type_temp)\n",
    "            flavor_headlines_temp = ' '.join(flavor_headlines_temp)\n",
    "            tastes_note_temp = ' '.join(tastes_note_temp)\n",
    "            description_temp = ' '.join(description_temp)\n",
    "            origin_temp = ' '.join(origin_temp)\n",
    "            paragraph = type_temp+flavor_headlines_temp+tastes_note_temp+description_temp+origin_temp\n",
    "            corpus.append(paragraph)\n",
    "    corpus_1 = Data_Processing(new_data)\n",
    "    new_data[\"corpus\"] = corpus\n",
    "    \n",
    "    tf = TfidfVectorizer(analyzer='word', ngram_range=(1, 3), min_df=0, stop_words='english')\n",
    "    tfidf_matrix = tf.fit_transform(new_data[\"corpus\"])\n",
    "    cosine_similarities = cosine_similarity(tfidf_matrix,Y=None,dense_output=False)\n",
    "    results = {}\n",
    "    for idx, row in new_data.iterrows(): \n",
    "        x = cosine_similarities[idx].toarray()\n",
    "        similar_indices = np.argsort(-x)\n",
    "        similar_items = [(cosine_similarities[idx,j], (j)) for i in similar_indices for j in i ]\n",
    "        results[idx] = similar_items[1:]\n",
    "        \n",
    "    new_d = pd.DataFrame({'Index': whiskeys['whiskey_id'], 'whiskey_name': whiskeys['whiskey_name']})\n",
    "    \n",
    "    rt = list()\n",
    "    for i in chosen_index:\n",
    "        rt.append(recommend(i, num))\n",
    "    \n",
    "    rt = list(itertools.chain(*rt))\n",
    "    \n",
    "    return rt"
   ]
  },
  {
   "cell_type": "code",
   "execution_count": 112,
   "metadata": {
    "collapsed": false
   },
   "outputs": [
    {
     "name": "stderr",
     "output_type": "stream",
     "text": [
      "C:\\Users\\DELL\\Anaconda3\\lib\\site-packages\\ipykernel_launcher.py:38: SettingWithCopyWarning: \n",
      "A value is trying to be set on a copy of a slice from a DataFrame.\n",
      "Try using .loc[row_indexer,col_indexer] = value instead\n",
      "\n",
      "See the caveats in the documentation: http://pandas.pydata.org/pandas-docs/stable/indexing.html#indexing-view-versus-copy\n"
     ]
    },
    {
     "data": {
      "text/plain": [
       "['Eagle Rare 17 Year Bourbon (Fall 2018)',\n",
       " 'Wayne Gretzky No. 99 Ninety Nine Proof Canadian Whisky',\n",
       " 'Aberlour 15 Year Select Cask Reserve',\n",
       " 'St. George Single Malt Lot 16',\n",
       " 'Royal Canadian Small Batch',\n",
       " 'Twelve Barrels Canadian Whisky',\n",
       " 'Wayne Gretzky No. 99 Ice Cask',\n",
       " 'Bowmore 12 Year',\n",
       " 'Port Charlotte 2007 CC:01 ',\n",
       " 'Nikka Super \"Revival\" Limited Edition Blended Whisky']"
      ]
     },
     "execution_count": 112,
     "metadata": {},
     "output_type": "execute_result"
    }
   ],
   "source": [
    "recommend_tfidf(input_data)"
   ]
  },
  {
   "cell_type": "markdown",
   "metadata": {},
   "source": [
    "### 7. Combine all similarity metrics"
   ]
  },
  {
   "cell_type": "code",
   "execution_count": 53,
   "metadata": {
    "collapsed": true
   },
   "outputs": [],
   "source": [
    "def top_k(numbers, k):\n",
    "    c = Counter(numbers)\n",
    "    most_common = [(key, val) for key, val in c.most_common(k)]\n",
    "    return most_common\n",
    "\n",
    "def recommend_content_based(input_data, n):\n",
    "    rc = recommend_cosine(input_data, n)\n",
    "    rp = recommend_pearson(input_data, n)\n",
    "    rk = recommend_knn(input_data, n)\n",
    "    rj = recommend_jaccard(input_data, n)\n",
    "    rt = recommend_tfidf(input_data)\n",
    "    combined_list = rc + rp + rk + rj + rt\n",
    "    return top_k(combined_list, n)"
   ]
  },
  {
   "cell_type": "code",
   "execution_count": 116,
   "metadata": {
    "collapsed": false
   },
   "outputs": [
    {
     "name": "stderr",
     "output_type": "stream",
     "text": [
      "C:\\Users\\DELL\\Anaconda3\\lib\\site-packages\\sklearn\\utils\\validation.py:475: DataConversionWarning: Data with input dtype float64 was converted to bool by check_pairwise_arrays.\n",
      "  warnings.warn(msg, DataConversionWarning)\n",
      "C:\\Users\\DELL\\Anaconda3\\lib\\site-packages\\ipykernel_launcher.py:38: SettingWithCopyWarning: \n",
      "A value is trying to be set on a copy of a slice from a DataFrame.\n",
      "Try using .loc[row_indexer,col_indexer] = value instead\n",
      "\n",
      "See the caveats in the documentation: http://pandas.pydata.org/pandas-docs/stable/indexing.html#indexing-view-versus-copy\n"
     ]
    },
    {
     "data": {
      "text/plain": [
       "[('Bowmore Mizunara Cask Finish', 2),\n",
       " ('Sonoma County Distilling Co. West of Kentucky Bourbon No. 1', 2),\n",
       " ('Nikka All Malt Whisky', 2),\n",
       " ('Sonoma County Distilling Co. Cherrywood Rye Whiskey (Batch #1)', 2),\n",
       " ('Fettercairn Fior', 2),\n",
       " ('Catskill The One and Only Buckwheat', 2),\n",
       " (\"Michter's US*1 Toasted Barrel Finish Bourbon (2015 Release)\", 2),\n",
       " ('Clynelish Select Reserve (2015 Special Release)', 2),\n",
       " ('Ardbeg Dark Cove (2016 Committee Release)', 2),\n",
       " ('Kurayoshi 12 Year Pure Malt Whisky', 1)]"
      ]
     },
     "execution_count": 116,
     "metadata": {},
     "output_type": "execute_result"
    }
   ],
   "source": [
    "recommend_content_based(input_data, 10)"
   ]
  },
  {
   "cell_type": "markdown",
   "metadata": {},
   "source": [
    "### 7. FUNCTIONALIZE THE MODEL"
   ]
  },
  {
   "cell_type": "code",
   "execution_count": 5,
   "metadata": {
    "collapsed": true
   },
   "outputs": [],
   "source": [
    "def recommend_all(input_file_name, n):\n",
    "    \n",
    "    def top_k(numbers, k):\n",
    "        c = Counter(numbers)\n",
    "        most_common = [(key, val) for key, val in c.most_common(k)]\n",
    "        return most_common\n",
    "    \n",
    "    def item(id_):\n",
    "        return new_d.loc[id_-1]['whiskey_name']\n",
    "\n",
    "    def recommend(id_, num):\n",
    "        recs = results[id_-1][:num]\n",
    "        return [inverse_whiskey_dict[i[1]] for i in recs]\n",
    "    \n",
    "    input_data = pd.read_csv(input_file_name)\n",
    "    chosen_index = np.array(input_data['whiskey_id'])\n",
    "    chosen_rating = np.array(input_data['rating'])\n",
    "    \n",
    "    whiskey_df = whiskeys_cb.drop('whiskey_name', axis = 1)\n",
    "    whiskey_df.set_index('whiskey_id', inplace=True)\n",
    "    whiskey_mat = whiskey_df.values\n",
    "    \n",
    "    whiskey_vec = 0\n",
    "    for i in range(len(chosen_index)):\n",
    "        whiskey_vec += whiskey_df.loc[chosen_index[i]] * chosen_rating[i]\n",
    "    whiskey_vec = np.array(whiskey_vec/len(whiskey_vec)).reshape(1, -1)\n",
    "    \n",
    "    # COSINE SIMILARITY\n",
    "    cs = cosine_similarity(whiskey_vec, whiskey_mat)\n",
    "    rec_index = np.argsort(cs)[0][::-1]\n",
    "    \n",
    "    recommendations_cosine = list()\n",
    "    \n",
    "    i = 0\n",
    "    while i <= n:\n",
    "        rec = whiskey_df.index[rec_index[i]]\n",
    "        if (rec not in chosen_index):\n",
    "            recommendations_cosine.append(rec)\n",
    "        i += 1\n",
    "    \n",
    "    # JACCARD SIMILARITY\n",
    "    j_dist = pairwise_distances(whiskey_vec, whiskey_mat, metric='jaccard')\n",
    "    rec_index = np.argsort(j_dist)[0]\n",
    "    \n",
    "    recommendations_jaccard = list()\n",
    "    \n",
    "    i = 0\n",
    "    while i <= n:\n",
    "        rec = whiskey_df.index[rec_index[i]]\n",
    "        if (rec not in chosen_index):\n",
    "            recommendations_jaccard.append(rec)\n",
    "        i += 1\n",
    "        \n",
    "    # PEARSON CORRELATION\n",
    "    p_dist = pairwise_distances(whiskey_vec, whiskey_mat, metric='correlation')\n",
    "    rec_index = np.argsort(p_dist)[0]\n",
    "    \n",
    "    recommendations_pearson = list()\n",
    "    \n",
    "    i = 0\n",
    "    while i <= n:\n",
    "        rec = whiskey_df.index[rec_index[i]]\n",
    "        if (rec not in chosen_index):\n",
    "            recommendations_pearson.append(rec)\n",
    "        i += 1\n",
    "    \n",
    "    # KNN\n",
    "    from sklearn.neighbors import NearestNeighbors \n",
    "    whiskey_np = np.array(whiskey_df)\n",
    "    knn = NearestNeighbors(n_neighbors = n, algorithm='ball_tree').fit(whiskey_np)\n",
    "    \n",
    "    distances, indices = knn.kneighbors(whiskey_vec)  \n",
    "    recommendations_knn = list()\n",
    "    for index in indices[0]:\n",
    "        if (index not in chosen_index):\n",
    "            rec = inverse_whiskey_dict[index]\n",
    "            recommendations_knn.append(rec)\n",
    "    \n",
    "    # TF-IDF\n",
    "    new_data = whiskeys[['whiskey_id', 'type', 'origin', 'flavor_headlines', 'tastes_note', 'description']]    \n",
    "    ps = PorterStemmer()\n",
    "    size = 2474\n",
    "    corpus=[]\n",
    "    def Data_Processing(file):\n",
    "        for i in range(len(file)):\n",
    "            type_temp = re.sub('[^A-Za-z0-9 ]+', '', new_data[\"type\"].iloc[i]).split()\n",
    "            flavor_headlines_temp = re.sub('[^A-Za-z0-9 ]+', '', new_data[\"flavor_headlines\"].iloc[i]).lower().split()\n",
    "            tastes_note_temp = re.sub('[^A-Za-z0-9 ]+', '', new_data[\"tastes_note\"].iloc[i]).lower().split()\n",
    "            description_temp = re.sub('[^A-Za-z0-9 ]+', '', new_data[\"description\"].iloc[i]).lower().split()\n",
    "            origin_temp = new_data[\"origin\"].iloc[i].lower()\n",
    "            type_temp = [ps.stem(word) for word in type_temp if not word in set(stopwords.words('english')) and len(word) != 1] \n",
    "            flavor_headlines_temp = [ps.stem(word) for word in flavor_headlines_temp if not word in set(stopwords.words('english')) and len(word) != 1]\n",
    "            tastes_note_temp = [ps.stem(word) for word in tastes_note_temp if not word in set(stopwords.words('english')) and len(word) != 1]\n",
    "            description_temp = [ps.stem(word) for word in description_temp if not word in set(stopwords.words('english')) and len(word) != 1]\n",
    "            origin_temp = [ps.stem(word) for word in origin_temp if not word in set(stopwords.words('english')) and len(word) != 1]\n",
    "            type_temp = ' '.join(type_temp)\n",
    "            flavor_headlines_temp = ' '.join(flavor_headlines_temp)\n",
    "            tastes_note_temp = ' '.join(tastes_note_temp)\n",
    "            description_temp = ' '.join(description_temp)\n",
    "            origin_temp = ' '.join(origin_temp)\n",
    "            paragraph = type_temp+flavor_headlines_temp+tastes_note_temp+description_temp+origin_temp\n",
    "            corpus.append(paragraph)\n",
    "    corpus_1 = Data_Processing(new_data)\n",
    "    new_data[\"corpus\"] = corpus\n",
    "    tf = TfidfVectorizer(analyzer='word', ngram_range=(1, 3), min_df=0, stop_words='english')\n",
    "    tfidf_matrix = tf.fit_transform(new_data[\"corpus\"])\n",
    "    cosine_similarities = cosine_similarity(tfidf_matrix,Y=None,dense_output=False)\n",
    "    results = {}\n",
    "    for idx, row in new_data.iterrows(): \n",
    "        x = cosine_similarities[idx].toarray()\n",
    "        similar_indices = np.argsort(-x)\n",
    "        similar_items = [(cosine_similarities[idx,j], (j)) for i in similar_indices for j in i ]\n",
    "        results[idx] = similar_items[1:]\n",
    "    new_d = pd.DataFrame({'Index': whiskeys['whiskey_id'], 'whiskey_name': whiskeys['whiskey_name']})\n",
    "    recommendations_tfidf = list()\n",
    "    for i in chosen_index:\n",
    "        recommendations_tfidf.append(recommend(i, 1))\n",
    "    import itertools\n",
    "    recommendations_tfidf = list(itertools.chain(*recommendations_tfidf))\n",
    "    \n",
    "    combined_list = recommendations_cosine + recommendations_pearson + recommendations_jaccard + recommendations_knn + recommendations_tfidf\n",
    "    return [inverse_whiskey_dict[i[0]] for i in top_k(combined_list, n)]"
   ]
  },
  {
   "cell_type": "code",
   "execution_count": 6,
   "metadata": {
    "collapsed": false
   },
   "outputs": [
    {
     "name": "stderr",
     "output_type": "stream",
     "text": [
      "//anaconda/lib/python3.5/site-packages/ipykernel/__main__.py:104: SettingWithCopyWarning: \n",
      "A value is trying to be set on a copy of a slice from a DataFrame.\n",
      "Try using .loc[row_indexer,col_indexer] = value instead\n",
      "\n",
      "See the caveats in the documentation: http://pandas.pydata.org/pandas-docs/stable/indexing.html#indexing-view-versus-copy\n"
     ]
    },
    {
     "data": {
      "text/plain": [
       "['Glenfarclas 21 Year',\n",
       " 'A Drop of the Irish Sherry Cask Finish (Blackadder)',\n",
       " 'Fettercairn Fior',\n",
       " 'Nikka Taketsuru Pure Malt 21 Year',\n",
       " 'Nikka Yoichi 15 Year Single Malt',\n",
       " 'Jura Superstition',\n",
       " 'Kurayoshi 12 Year Pure Malt Whisky',\n",
       " 'Barrell Bourbon Batch 004',\n",
       " 'Jim Beam Single Barrel Bourbon',\n",
       " 'Bunnahabhain 18 Year']"
      ]
     },
     "execution_count": 6,
     "metadata": {},
     "output_type": "execute_result"
    }
   ],
   "source": [
    "recommend_all('user_input_set.csv', 10)"
   ]
  },
  {
   "cell_type": "code",
   "execution_count": null,
   "metadata": {
    "collapsed": true
   },
   "outputs": [],
   "source": []
  }
 ],
 "metadata": {
  "anaconda-cloud": {},
  "kernelspec": {
   "display_name": "Python 3",
   "language": "python",
   "name": "python3"
  },
  "language_info": {
   "codemirror_mode": {
    "name": "ipython",
    "version": 3
   },
   "file_extension": ".py",
   "mimetype": "text/x-python",
   "name": "python",
   "nbconvert_exporter": "python",
   "pygments_lexer": "ipython3",
   "version": "3.5.2"
  }
 },
 "nbformat": 4,
 "nbformat_minor": 2
}
